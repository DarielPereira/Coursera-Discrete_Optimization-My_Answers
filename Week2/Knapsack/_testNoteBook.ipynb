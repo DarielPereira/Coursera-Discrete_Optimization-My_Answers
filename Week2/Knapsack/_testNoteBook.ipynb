{
 "cells": [
  {
   "cell_type": "code",
   "execution_count": 62,
   "outputs": [
    {
     "name": "stdout",
     "output_type": "stream",
     "text": [
      "4 11\n",
      "8 4\n",
      "10 5\n",
      "15 8\n",
      "4 3\n",
      "\n",
      "[Item(index=2, value=15, weight=8), Item(index=1, value=10, weight=5), Item(index=0, value=8, weight=4), Item(index=3, value=4, weight=3)]\n",
      "[[ 0  0  0  0  0]\n",
      " [ 0  0  0  0  0]\n",
      " [ 0  0  0  0  0]\n",
      " [ 0  0  0  0  4]\n",
      " [ 0  0  0  8  8]\n",
      " [ 0  0 10 10 10]\n",
      " [ 0  0 10 10 10]\n",
      " [ 0  0 10 10 12]\n",
      " [ 0 15 15 15 15]\n",
      " [ 0 15 15 18 18]\n",
      " [ 0 15 15 18 18]\n",
      " [ 0 15 15 18 19]]\n",
      "19 1\n",
      "0 0 1 1\n"
     ]
    }
   ],
   "source": [
    "###THIS SOLUTION GETS 10s IN ALL PROBLEMS\n",
    "##########################################\n",
    "from collections import namedtuple\n",
    "import numpy as np\n",
    "from operator import itemgetter\n",
    "import time\n",
    "from bitarray import bitarray\n",
    "\n",
    "input_location = './data/ks_4_0'\n",
    "with open(input_location, 'r') as input_data_file:\n",
    "    input_data = input_data_file.read()\n",
    "print(input_data)\n",
    "\n",
    "Item = namedtuple(\"Item\", ['index', 'value', 'weight'])\n",
    "\n",
    "# parse the input\n",
    "lines = input_data.split('\\n')\n",
    "\n",
    "firstLine = lines[0].split()\n",
    "item_count = int(firstLine[0])\n",
    "capacity = int(firstLine[1])\n",
    "\n",
    "items = []\n",
    "\n",
    "for i in range(1, item_count + 1):\n",
    "    line = lines[i]\n",
    "    parts = line.split()\n",
    "    items.append(Item(i - 1, int(parts[0]), int(parts[1])))\n",
    "\n",
    "init_time = time.time()\n",
    "\n",
    "items.sort(reverse=True, key=itemgetter(2))\n",
    "\n",
    "print(items)\n",
    "\n",
    "origin_row = np.zeros((capacity+1,1), dtype=np.int32)\n",
    "destination_row = np.zeros((capacity+1,1), dtype=np.int32)\n",
    "\n",
    "back_tracing = np.matrix(np.zeros((capacity+1, item_count+1), dtype=bool))\n",
    "testMatrix = np.matrix(np.zeros((capacity+1, item_count+1), dtype=int))\n",
    "\n",
    "for j in range(1, item_count+1):\n",
    "    destination_row[items[j-1][2]:] = np.maximum(origin_row[:][items[j-1][2]:], (np.roll(origin_row[:],items[j-1][2],axis=0)[items[j-1][2]:] + items[j-1][1]))\n",
    "    back_tracing[:,j] = destination_row[:]==origin_row[:]\n",
    "    origin_row[:] = destination_row[:]\n",
    "    testMatrix[:,j] = destination_row[:]\n",
    "\n",
    "print(testMatrix)\n",
    "# print(back_tracing)\n",
    "###backtracing\n",
    "\n",
    "pointer = (capacity, item_count)\n",
    "taken = [0]*len(items)\n",
    "for i in range(item_count-1,-1,-1):\n",
    "    if back_tracing[pointer]==True:\n",
    "        pointer = (pointer[0],pointer[1]-1)\n",
    "    else:\n",
    "        pointer = (pointer[0]-items[pointer[1]-1][2],pointer[1]-1)\n",
    "        taken[i] = 1\n",
    "end_time = time.time()\n",
    "\n",
    "indexes = [it[0] for it in items]\n",
    "taken = [i for _,i in sorted(zip(indexes, taken))]\n",
    "\n",
    "\n",
    "value = destination_row[-1][0]\n",
    "\n",
    "# prepare the solution in the specified output format\n",
    "output_data = str(value) + ' ' + str(1) + '\\n'\n",
    "output_data += ' '.join(map(str, taken))\n",
    "\n",
    "print(output_data)\n"
   ],
   "metadata": {
    "collapsed": false,
    "pycharm": {
     "name": "#%%\n"
    }
   }
  },
  {
   "cell_type": "code",
   "execution_count": 57,
   "metadata": {
    "collapsed": true
   },
   "outputs": [
    {
     "name": "stdout",
     "output_type": "stream",
     "text": [
      "100 100000\n",
      "90000 90001\n",
      "89750 89751\n",
      "10001 10002\n",
      "89500 89501\n",
      "10252 10254\n",
      "89250 89251\n",
      "10503 10506\n",
      "89000 89001\n",
      "10754 10758\n",
      "88750 88751\n",
      "11005 11010\n",
      "88500 88501\n",
      "11256 11262\n",
      "88250 88251\n",
      "11507 11514\n",
      "88000 88001\n",
      "11758 11766\n",
      "87750 87751\n",
      "12009 12018\n",
      "87500 87501\n",
      "12260 12270\n",
      "87250 87251\n",
      "12511 12522\n",
      "87000 87001\n",
      "12762 12774\n",
      "86750 86751\n",
      "13013 13026\n",
      "86500 86501\n",
      "13264 13278\n",
      "86250 86251\n",
      "13515 13530\n",
      "86000 86001\n",
      "13766 13782\n",
      "85750 85751\n",
      "14017 14034\n",
      "85500 85501\n",
      "14268 14286\n",
      "85250 85251\n",
      "14519 14538\n",
      "85000 85001\n",
      "14770 14790\n",
      "84750 84751\n",
      "15021 15042\n",
      "84500 84501\n",
      "15272 15294\n",
      "84250 84251\n",
      "15523 15546\n",
      "84000 84001\n",
      "15774 15798\n",
      "83750 83751\n",
      "16025 16050\n",
      "83500 83501\n",
      "16276 16302\n",
      "83250 83251\n",
      "16527 16554\n",
      "83000 83001\n",
      "16778 16806\n",
      "82750 82751\n",
      "17029 17058\n",
      "82500 82501\n",
      "17280 17310\n",
      "82250 82251\n",
      "17531 17562\n",
      "82000 82001\n",
      "17782 17814\n",
      "81750 81751\n",
      "18033 18066\n",
      "81500 81501\n",
      "18284 18318\n",
      "81250 81251\n",
      "18535 18570\n",
      "81000 81001\n",
      "18786 18822\n",
      "80750 80751\n",
      "19037 19074\n",
      "80500 80501\n",
      "19288 19326\n",
      "80250 80251\n",
      "19539 19578\n",
      "80000 80001\n",
      "19790 19830\n",
      "79750 79751\n",
      "20041 20082\n",
      "79500 79501\n",
      "20292 20334\n",
      "79250 79251\n",
      "20543 20586\n",
      "79000 79001\n",
      "20794 20838\n",
      "78750 78751\n",
      "21045 21090\n",
      "78500 78501\n",
      "21296 21342\n",
      "78250 78251\n",
      "21547 21594\n",
      "78000 78001\n",
      "21798 21846\n",
      "77750 77751\n",
      "22049 22098\n",
      "77500 77501\n",
      "\n",
      "[Item(index=0, value=90000, weight=90001), Item(index=1, value=89750, weight=89751), Item(index=3, value=89500, weight=89501), Item(index=5, value=89250, weight=89251), Item(index=7, value=89000, weight=89001), Item(index=9, value=88750, weight=88751), Item(index=11, value=88500, weight=88501), Item(index=13, value=88250, weight=88251), Item(index=15, value=88000, weight=88001), Item(index=17, value=87750, weight=87751), Item(index=19, value=87500, weight=87501), Item(index=21, value=87250, weight=87251), Item(index=23, value=87000, weight=87001), Item(index=25, value=86750, weight=86751), Item(index=27, value=86500, weight=86501), Item(index=29, value=86250, weight=86251), Item(index=31, value=86000, weight=86001), Item(index=33, value=85750, weight=85751), Item(index=35, value=85500, weight=85501), Item(index=37, value=85250, weight=85251), Item(index=39, value=85000, weight=85001), Item(index=41, value=84750, weight=84751), Item(index=43, value=84500, weight=84501), Item(index=45, value=84250, weight=84251), Item(index=47, value=84000, weight=84001), Item(index=49, value=83750, weight=83751), Item(index=51, value=83500, weight=83501), Item(index=53, value=83250, weight=83251), Item(index=55, value=83000, weight=83001), Item(index=57, value=82750, weight=82751), Item(index=59, value=82500, weight=82501), Item(index=61, value=82250, weight=82251), Item(index=63, value=82000, weight=82001), Item(index=65, value=81750, weight=81751), Item(index=67, value=81500, weight=81501), Item(index=69, value=81250, weight=81251), Item(index=71, value=81000, weight=81001), Item(index=73, value=80750, weight=80751), Item(index=75, value=80500, weight=80501), Item(index=77, value=80250, weight=80251), Item(index=79, value=80000, weight=80001), Item(index=81, value=79750, weight=79751), Item(index=83, value=79500, weight=79501), Item(index=85, value=79250, weight=79251), Item(index=87, value=79000, weight=79001), Item(index=89, value=78750, weight=78751), Item(index=91, value=78500, weight=78501), Item(index=93, value=78250, weight=78251), Item(index=95, value=78000, weight=78001), Item(index=97, value=77750, weight=77751), Item(index=99, value=77500, weight=77501), Item(index=98, value=22049, weight=22098), Item(index=96, value=21798, weight=21846), Item(index=94, value=21547, weight=21594), Item(index=92, value=21296, weight=21342), Item(index=90, value=21045, weight=21090), Item(index=88, value=20794, weight=20838), Item(index=86, value=20543, weight=20586), Item(index=84, value=20292, weight=20334), Item(index=82, value=20041, weight=20082), Item(index=80, value=19790, weight=19830), Item(index=78, value=19539, weight=19578), Item(index=76, value=19288, weight=19326), Item(index=74, value=19037, weight=19074), Item(index=72, value=18786, weight=18822), Item(index=70, value=18535, weight=18570), Item(index=68, value=18284, weight=18318), Item(index=66, value=18033, weight=18066), Item(index=64, value=17782, weight=17814), Item(index=62, value=17531, weight=17562), Item(index=60, value=17280, weight=17310), Item(index=58, value=17029, weight=17058), Item(index=56, value=16778, weight=16806), Item(index=54, value=16527, weight=16554), Item(index=52, value=16276, weight=16302), Item(index=50, value=16025, weight=16050), Item(index=48, value=15774, weight=15798), Item(index=46, value=15523, weight=15546), Item(index=44, value=15272, weight=15294), Item(index=42, value=15021, weight=15042), Item(index=40, value=14770, weight=14790), Item(index=38, value=14519, weight=14538), Item(index=36, value=14268, weight=14286), Item(index=34, value=14017, weight=14034), Item(index=32, value=13766, weight=13782), Item(index=30, value=13515, weight=13530), Item(index=28, value=13264, weight=13278), Item(index=26, value=13013, weight=13026), Item(index=24, value=12762, weight=12774), Item(index=22, value=12511, weight=12522), Item(index=20, value=12260, weight=12270), Item(index=18, value=12009, weight=12018), Item(index=16, value=11758, weight=11766), Item(index=14, value=11507, weight=11514), Item(index=12, value=11256, weight=11262), Item(index=10, value=11005, weight=11010), Item(index=8, value=10754, weight=10758), Item(index=6, value=10503, weight=10506), Item(index=4, value=10252, weight=10254), Item(index=2, value=10001, weight=10002)]\n",
      "[[0 0 0 ... 0 0 0]\n",
      " [0 0 0 ... 0 0 0]\n",
      " [0 0 0 ... 0 0 0]\n",
      " ...\n",
      " [0 0 0 ... 0 0 0]\n",
      " [0 0 0 ... 0 0 0]\n",
      " [0 0 0 ... 0 0 0]]\n",
      "[[    0     0     0 ...     0     0     0]\n",
      " [    0     0     0 ...     0     0     0]\n",
      " [    0     0     0 ...     0     0     0]\n",
      " ...\n",
      " [    0 90000 90000 ... 99837 99837 99837]\n",
      " [    0 90000 90000 ... 99837 99837 99837]\n",
      " [    0 90000 90000 ... 99837 99837 99837]]\n",
      "dp table time: 0.2483198642730713\n",
      "dp traceback time: 0.0\n",
      "99837 1\n",
      "0 0 0 0 0 0 0 0 0 0 0 0 0 0 1 0 1 0 1 0 1 0 1 0 0 0 1 0 1 0 1 0 0 0 0 0 0 0 0 0 0 0 0 0 0 0 0 0 0 0 0 0 0 0 0 0 0 0 0 0 0 0 0 0 0 0 0 0 0 0 0 0 0 0 0 0 0 0 0 0 0 0 0 0 0 0 0 0 0 0 0 0 0 0 0 0 0 0 0 0\n"
     ]
    }
   ],
   "source": [
    "###THIS SOLUTION FAILS IN PROBLEMS 4 AND 6, AND GETS 10 IN OTHERS\n",
    "#################################\n",
    "\n",
    "import operator\n",
    "from collections import namedtuple\n",
    "import numpy as np\n",
    "from operator import itemgetter\n",
    "import time\n",
    "\n",
    "input_location = './data/ks_100_0'\n",
    "with open(input_location, 'r') as input_data_file:\n",
    "    input_data = input_data_file.read()\n",
    "print(input_data)\n",
    "\n",
    "Item = namedtuple(\"Item\", ['index', 'value', 'weight'])\n",
    "\n",
    "# parse the input\n",
    "lines = input_data.split('\\n')\n",
    "\n",
    "firstLine = lines[0].split()\n",
    "item_count = int(firstLine[0])\n",
    "capacity = int(firstLine[1])\n",
    "\n",
    "items = []\n",
    "\n",
    "for i in range(1, item_count + 1):\n",
    "    line = lines[i]\n",
    "    parts = line.split()\n",
    "    items.append(Item(i - 1, int(parts[0]), int(parts[1])))\n",
    "\n",
    "init_time = time.time()\n",
    "\n",
    "items.sort(reverse=True, key=itemgetter(2))\n",
    "\n",
    "print(items)\n",
    "\n",
    "\n",
    "dp_table = np.matrix(np.zeros((capacity+1, item_count+1), dtype=np.int32))\n",
    "print(dp_table)\n",
    "\n",
    "\n",
    "#filling dynamic programming table\n",
    "for j in range(1, item_count+1):\n",
    "    dp_table[items[j-1][2]:, j] = np.maximum(dp_table[items[j-1][2]:, j-1], (np.roll(dp_table[:,j-1],items[j-1][2],axis=0)[items[j-1][2]:] + items[j-1][1]))\n",
    "\n",
    "end_time = time.time()\n",
    "\n",
    "\n",
    "print(dp_table)\n",
    "print('dp table time: {}'.format(end_time-init_time))\n",
    "\n",
    "init_time = time.time()\n",
    "##traceBack\n",
    "pointer = (capacity, item_count)\n",
    "taken = [0]*len(items)\n",
    "for i in range(item_count-1,-1,-1):\n",
    "    if dp_table[pointer]==dp_table[pointer[0],pointer[1]-1]:\n",
    "        pointer = (pointer[0],pointer[1]-1)\n",
    "    else:\n",
    "        pointer = (pointer[0]-items[pointer[1]-1][2],pointer[1]-1)\n",
    "        taken[i] = 1\n",
    "end_time = time.time()\n",
    "print('dp traceback time: {}'.format(end_time-init_time))\n",
    "\n",
    "indexes = [it[0] for it in items]\n",
    "taken = [i for _,i in sorted(zip(indexes, taken))]\n",
    "\n",
    "\n",
    "value = dp_table[capacity, item_count]\n",
    "\n",
    "# prepare the solution in the specified output format\n",
    "output_data = str(value) + ' ' + str(1) + '\\n'\n",
    "output_data += ' '.join(map(str, taken))\n",
    "\n",
    "print(output_data)\n"
   ]
  },
  {
   "cell_type": "code",
   "execution_count": 54,
   "outputs": [
    {
     "name": "stdout",
     "output_type": "stream",
     "text": [
      "11.0\n"
     ]
    }
   ],
   "source": [
    "init_time = time.time()\n",
    "\n",
    "print(items)\n",
    "\n",
    "\n",
    "dp_table = np.zeros((capacity+1, item_count+1))\n",
    "print(dp_table)\n",
    "\n",
    "\n",
    "#filling dynamic programming table\n",
    "for j in range(1, item_count+1):\n",
    "    for i in range(capacity+1):\n",
    "        if items[j-1][2] <= i:\n",
    "            dp_table[i, j] = np.maximum(dp_table[i, j-1], dp_table[i - items[j-1][2], j-1] + items[j-1][1])\n",
    "        else:\n",
    "            dp_table[i, j] = dp_table[i, j-1]\n",
    "\n",
    "end_time = time.time()\n",
    "\n",
    "\n",
    "#############################\n",
    "\n",
    "init_time = time.time()\n",
    "\n",
    "items.sort(reverse=True, key=itemgetter(2))\n",
    "\n",
    "print(items)\n",
    "\n",
    "\n",
    "dp_table = np.zeros((capacity+1, item_count+1))\n",
    "print(dp_table)\n",
    "\n",
    "\n",
    "#filling dynamic programming table\n",
    "for j in range(1, item_count+1):\n",
    "    for i in range(items[j-1][2], capacity+1):\n",
    "        dp_table[i, j] = np.maximum(dp_table[i, j-1], dp_table[i - items[j-1][2], j-1] + items[j-1][1])\n",
    "\n",
    "end_time = time.time()\n",
    "\n"
   ],
   "metadata": {
    "collapsed": false,
    "pycharm": {
     "name": "#%%\n"
    }
   }
  },
  {
   "cell_type": "code",
   "execution_count": 25,
   "outputs": [
    {
     "name": "stdout",
     "output_type": "stream",
     "text": [
      "[3 9 2]\n",
      "[2 5 9]\n"
     ]
    }
   ],
   "source": [
    "A = np.array([[1,2],[5,3],[8,9]])\n",
    "B = A[:,1]\n",
    "C = A[:,0]\n",
    "print(np.roll(B,2,axis=0))\n",
    "\n",
    "D = np.maximum(B,C)\n",
    "print(D)\n",
    "\n"
   ],
   "metadata": {
    "collapsed": false,
    "pycharm": {
     "name": "#%%\n"
    }
   }
  },
  {
   "cell_type": "code",
   "execution_count": 2,
   "outputs": [
    {
     "name": "stdout",
     "output_type": "stream",
     "text": [
      "[[2, 1], [0, 2], [1, 5]]\n",
      "[1, 0, 0]\n"
     ]
    }
   ],
   "source": [
    "import operator\n",
    "from more_itertools import sort_together\n",
    "\n",
    "list = [[0,2],[1,5],[2,1]]\n",
    "list.sort(key=lambda elem: elem[1])\n",
    "print(list)\n",
    "\n",
    "indexes = [it[0] for it in items]\n",
    "\n",
    "taken = [i for _,i in sorted(zip(indexes, taken))]\n",
    "\n",
    "print(taken)\n"
   ],
   "metadata": {
    "collapsed": false,
    "pycharm": {
     "name": "#%%\n"
    }
   }
  },
  {
   "cell_type": "code",
   "execution_count": null,
   "outputs": [],
   "source": [
    "\n",
    "\n",
    "pointer = (capacity, item_count)\n",
    "p = (1,1)\n",
    "a = p[0] - 2\n",
    "print(dp_table[pointer])"
   ],
   "metadata": {
    "collapsed": false,
    "pycharm": {
     "name": "#%%\n"
    }
   }
  },
  {
   "cell_type": "code",
   "execution_count": null,
   "outputs": [],
   "source": [
    "\n",
    "\n",
    "\n",
    "from operator import itemgetter\n",
    "it = items.sort(reverse=True, key=itemgetter(1))\n",
    "print(items)"
   ],
   "metadata": {
    "collapsed": false,
    "pycharm": {
     "name": "#%%\n"
    }
   }
  },
  {
   "cell_type": "code",
   "execution_count": 38,
   "outputs": [
    {
     "name": "stdout",
     "output_type": "stream",
     "text": [
      "[[ 2 15  8]\n",
      " [ 1 10  5]\n",
      " [ 0  8  4]\n",
      " [ 3  4  3]]\n"
     ]
    }
   ],
   "source": [
    "it = np.matrix(items)\n",
    "print(it)"
   ],
   "metadata": {
    "collapsed": false,
    "pycharm": {
     "name": "#%%\n"
    }
   }
  },
  {
   "cell_type": "code",
   "execution_count": null,
   "outputs": [],
   "source": [],
   "metadata": {
    "collapsed": false,
    "pycharm": {
     "name": "#%%\n"
    }
   }
  }
 ],
 "metadata": {
  "kernelspec": {
   "name": "python3",
   "language": "python",
   "display_name": "Python 3 (ipykernel)"
  },
  "language_info": {
   "codemirror_mode": {
    "name": "ipython",
    "version": 2
   },
   "file_extension": ".py",
   "mimetype": "text/x-python",
   "name": "python",
   "nbconvert_exporter": "python",
   "pygments_lexer": "ipython2",
   "version": "2.7.6"
  }
 },
 "nbformat": 4,
 "nbformat_minor": 0
}